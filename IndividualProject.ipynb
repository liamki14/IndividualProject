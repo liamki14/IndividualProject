{
 "cells": [
  {
   "cell_type": "code",
   "execution_count": 1,
   "metadata": {},
   "outputs": [
    {
     "data": {
      "text/plain": [
       "3.9229229229229228"
      ]
     },
     "execution_count": 1,
     "metadata": {},
     "output_type": "execute_result"
    }
   ],
   "source": [
    "# Average\n",
    "import pandas as pd\n",
    "Location = r\"C:\\Users\\liamk\\Desktop\\USF\\BUSINESS INTELLIGENCE\\datasets\\axisdata.csv\"\n",
    "df = pd.read_csv(Location)\n",
    "df['Cars Sold'].mean() "
   ]
  },
  {
   "cell_type": "code",
   "execution_count": 2,
   "metadata": {},
   "outputs": [
    {
     "data": {
      "text/plain": [
       "7"
      ]
     },
     "execution_count": 2,
     "metadata": {},
     "output_type": "execute_result"
    }
   ],
   "source": [
    "# Max\n",
    "import pandas as pd\n",
    "Location = r\"C:\\Users\\liamk\\Desktop\\USF\\BUSINESS INTELLIGENCE\\datasets\\axisdata.csv\"\n",
    "df = pd.read_csv(Location)\n",
    "df['Cars Sold'].max()"
   ]
  },
  {
   "cell_type": "code",
   "execution_count": 3,
   "metadata": {},
   "outputs": [
    {
     "data": {
      "text/plain": [
       "1"
      ]
     },
     "execution_count": 3,
     "metadata": {},
     "output_type": "execute_result"
    }
   ],
   "source": [
    "# Min\n",
    "import pandas as pd\n",
    "Location = r\"C:\\Users\\liamk\\Desktop\\USF\\BUSINESS INTELLIGENCE\\datasets\\axisdata.csv\"\n",
    "df = pd.read_csv(Location)\n",
    "df['Cars Sold'].min()"
   ]
  },
  {
   "cell_type": "code",
   "execution_count": 4,
   "metadata": {},
   "outputs": [
    {
     "data": {
      "text/html": [
       "<div>\n",
       "<style scoped>\n",
       "    .dataframe tbody tr th:only-of-type {\n",
       "        vertical-align: middle;\n",
       "    }\n",
       "\n",
       "    .dataframe tbody tr th {\n",
       "        vertical-align: top;\n",
       "    }\n",
       "\n",
       "    .dataframe thead th {\n",
       "        text-align: right;\n",
       "    }\n",
       "</style>\n",
       "<table border=\"1\" class=\"dataframe\">\n",
       "  <thead>\n",
       "    <tr style=\"text-align: right;\">\n",
       "      <th></th>\n",
       "      <th>Cars Sold</th>\n",
       "    </tr>\n",
       "    <tr>\n",
       "      <th>Gender</th>\n",
       "      <th></th>\n",
       "    </tr>\n",
       "  </thead>\n",
       "  <tbody>\n",
       "    <tr>\n",
       "      <th>F</th>\n",
       "      <td>3.760736</td>\n",
       "    </tr>\n",
       "    <tr>\n",
       "      <th>M</th>\n",
       "      <td>4.078431</td>\n",
       "    </tr>\n",
       "  </tbody>\n",
       "</table>\n",
       "</div>"
      ],
      "text/plain": [
       "        Cars Sold\n",
       "Gender           \n",
       "F        3.760736\n",
       "M        4.078431"
      ]
     },
     "execution_count": 4,
     "metadata": {},
     "output_type": "execute_result"
    }
   ],
   "source": [
    "# Average cars sold by gender\n",
    "import pandas as pd\n",
    "Location = r\"C:\\Users\\liamk\\Desktop\\USF\\BUSINESS INTELLIGENCE\\datasets\\axisdata.csv\"\n",
    "df = pd.read_csv(Location)\n",
    "pd.pivot_table(df,\n",
    " values=['Cars Sold'],\n",
    " aggfunc='mean',\n",
    " index=['Gender'])"
   ]
  },
  {
   "cell_type": "code",
   "execution_count": 5,
   "metadata": {},
   "outputs": [
    {
     "data": {
      "text/plain": [
       "34.740237691001695"
      ]
     },
     "execution_count": 5,
     "metadata": {},
     "output_type": "execute_result"
    }
   ],
   "source": [
    "# Average hours worked by people selling more than three cars per month\n",
    "import pandas as pd\n",
    "Location = r\"C:\\Users\\liamk\\Desktop\\USF\\BUSINESS INTELLIGENCE\\datasets\\axisdata.csv\"\n",
    "df = pd.read_csv(Location)\n",
    "df.loc[df['Cars Sold']>3]['Hours Worked'].mean()"
   ]
  },
  {
   "cell_type": "code",
   "execution_count": 6,
   "metadata": {},
   "outputs": [
    {
     "data": {
      "text/plain": [
       "3.026026026026026"
      ]
     },
     "execution_count": 6,
     "metadata": {},
     "output_type": "execute_result"
    }
   ],
   "source": [
    "# Average years of experience\n",
    "import pandas as pd\n",
    "Location = r\"C:\\Users\\liamk\\Desktop\\USF\\BUSINESS INTELLIGENCE\\datasets\\axisdata.csv\"\n",
    "df = pd.read_csv(Location)\n",
    "df['Years Experience'].mean() # arithmetic average"
   ]
  },
  {
   "cell_type": "code",
   "execution_count": 7,
   "metadata": {},
   "outputs": [
    {
     "data": {
      "text/plain": [
       "3.0492359932088284"
      ]
     },
     "execution_count": 7,
     "metadata": {},
     "output_type": "execute_result"
    }
   ],
   "source": [
    "# Average years of experience for people selling more than three cars per month\n",
    "import pandas as pd\n",
    "Location = r\"C:\\Users\\liamk\\Desktop\\USF\\BUSINESS INTELLIGENCE\\datasets\\axisdata.csv\"\n",
    "df = pd.read_csv(Location)\n",
    "df.loc[df['Cars Sold']>3]['Years Experience'].mean()"
   ]
  },
  {
   "cell_type": "code",
   "execution_count": 8,
   "metadata": {},
   "outputs": [
    {
     "data": {
      "text/plain": [
       "4.1689419795221845"
      ]
     },
     "execution_count": 8,
     "metadata": {},
     "output_type": "execute_result"
    }
   ],
   "source": [
    "# Average cars sold per month sorted by whether they have had sales training\n",
    "import pandas as pd\n",
    "Location = r\"C:\\Users\\liamk\\Desktop\\USF\\BUSINESS INTELLIGENCE\\datasets\\axisdata.csv\"\n",
    "df = pd.read_csv(Location)\n",
    "df.loc[df['SalesTraining']=='Y']['Cars Sold'].mean()"
   ]
  },
  {
   "cell_type": "code",
   "execution_count": 33,
   "metadata": {},
   "outputs": [
    {
     "data": {
      "text/plain": [
       "array([<matplotlib.axes._subplots.AxesSubplot object at 0x000001CD6A8FF730>,\n",
       "       <matplotlib.axes._subplots.AxesSubplot object at 0x000001CD6A93CAC0>],\n",
       "      dtype=object)"
      ]
     },
     "execution_count": 33,
     "metadata": {},
     "output_type": "execute_result"
    },
    {
     "data": {
      "image/png": "[encoded data removed]",
      "text/plain": [
       "<Figure size 432x288 with 2 Axes>"
      ]
     },
     "metadata": {
      "needs_background": "light"
     },
     "output_type": "display_data"
    }
   ],
   "source": [
    "# Histogram\n",
    "import matplotlib.pyplot as plt\n",
    "import pandas as pd\n",
    "%matplotlib inline\n",
    "Location = r\"C:\\Users\\liamk\\Desktop\\USF\\BUSINESS INTELLIGENCE\\datasets\\axisdata.csv\"\n",
    "df = pd.read_csv(Location)\n",
    "df.hist(column=\"Cars Sold\", by=\"SalesTraining\")"
   ]
  },
  {
   "cell_type": "code",
   "execution_count": 31,
   "metadata": {},
   "outputs": [
    {
     "data": {
      "image/png": "[encoded data removed]",
      "text/plain": [
       "<Figure size 432x288 with 1 Axes>"
      ]
     },
     "metadata": {
      "needs_background": "light"
     },
     "output_type": "display_data"
    }
   ],
   "source": [
    "# Boxplot\n",
    "import matplotlib.pyplot as plt\n",
    "import pandas as pd\n",
    "%matplotlib inline\n",
    "Location = r\"C:\\Users\\liamk\\Desktop\\USF\\BUSINESS INTELLIGENCE\\datasets\\axisdata.csv\"\n",
    "df = pd.read_csv(Location)\n",
    "axis1 = df.boxplot (by='Gender', column='Cars Sold')"
   ]
  }
 ],
 "metadata": {
  "kernelspec": {
   "display_name": "Python 3",
   "language": "python",
   "name": "python3"
  },
  "language_info": {
   "codemirror_mode": {
    "name": "ipython",
    "version": 3
   },
   "file_extension": ".py",
   "mimetype": "text/x-python",
   "name": "python",
   "nbconvert_exporter": "python",
   "pygments_lexer": "ipython3",
   "version": "3.8.3"
  }
 },
 "nbformat": 4,
 "nbformat_minor": 4
}
